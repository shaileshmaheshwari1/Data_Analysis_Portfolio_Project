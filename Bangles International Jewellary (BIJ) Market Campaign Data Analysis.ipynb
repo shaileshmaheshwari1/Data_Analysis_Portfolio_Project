{
 "cells": [
  {
   "cell_type": "code",
   "execution_count": 1,
   "id": "8f02bd41",
   "metadata": {},
   "outputs": [],
   "source": [
    "#Import necessary libraries\n",
    "\n",
    "# import pandas\n",
    "import pandas as pd\n",
    "\n",
    "#import Numpy-Numerical Python\n",
    "\n",
    "import numpy as np\n",
    "\n",
    "# import subpackage of matplotlib \n",
    "\n",
    "import matplotlib.pyplot as plt\n",
    "\n",
    "#import seaborn\n",
    "\n",
    "import seaborn as sns\n",
    "\n",
    "# Display all columns\n",
    "pd.set_option(\"display.max_columns\", None)\n",
    "#Display all rows\n",
    "pd.set_option(\"display.max_rows\", None)\n",
    "\n",
    "\n",
    "# to avoid warnings\n",
    "\n",
    "from warnings import filterwarnings\n",
    "filterwarnings(\"ignore\") "
   ]
  },
  {
   "cell_type": "code",
   "execution_count": 2,
   "id": "bc85b2ab",
   "metadata": {},
   "outputs": [],
   "source": [
    "## Import the data set \n",
    "\n",
    "data=pd.read_excel(\"Data Driven Decisions for Business  - Data.xlsx\")"
   ]
  },
  {
   "cell_type": "code",
   "execution_count": 3,
   "id": "36aca468",
   "metadata": {},
   "outputs": [
    {
     "data": {
      "text/html": [
       "<div>\n",
       "<style scoped>\n",
       "    .dataframe tbody tr th:only-of-type {\n",
       "        vertical-align: middle;\n",
       "    }\n",
       "\n",
       "    .dataframe tbody tr th {\n",
       "        vertical-align: top;\n",
       "    }\n",
       "\n",
       "    .dataframe thead th {\n",
       "        text-align: right;\n",
       "    }\n",
       "</style>\n",
       "<table border=\"1\" class=\"dataframe\">\n",
       "  <thead>\n",
       "    <tr style=\"text-align: right;\">\n",
       "      <th></th>\n",
       "      <th>MARKET</th>\n",
       "      <th>Year</th>\n",
       "      <th>Month</th>\n",
       "      <th>SUBTYPE</th>\n",
       "      <th>Sales Volume</th>\n",
       "      <th>Sales Value</th>\n",
       "    </tr>\n",
       "  </thead>\n",
       "  <tbody>\n",
       "    <tr>\n",
       "      <th>0</th>\n",
       "      <td>Japan</td>\n",
       "      <td>2018</td>\n",
       "      <td>1</td>\n",
       "      <td>Bracelet</td>\n",
       "      <td>10</td>\n",
       "      <td>10280.47</td>\n",
       "    </tr>\n",
       "    <tr>\n",
       "      <th>1</th>\n",
       "      <td>Japan</td>\n",
       "      <td>2018</td>\n",
       "      <td>1</td>\n",
       "      <td>Ring</td>\n",
       "      <td>19</td>\n",
       "      <td>21850.04</td>\n",
       "    </tr>\n",
       "    <tr>\n",
       "      <th>2</th>\n",
       "      <td>Japan</td>\n",
       "      <td>2018</td>\n",
       "      <td>1</td>\n",
       "      <td>Necklace</td>\n",
       "      <td>23</td>\n",
       "      <td>36795.41</td>\n",
       "    </tr>\n",
       "    <tr>\n",
       "      <th>3</th>\n",
       "      <td>Japan</td>\n",
       "      <td>2018</td>\n",
       "      <td>1</td>\n",
       "      <td>Accessory</td>\n",
       "      <td>0</td>\n",
       "      <td>0.00</td>\n",
       "    </tr>\n",
       "    <tr>\n",
       "      <th>4</th>\n",
       "      <td>Japan</td>\n",
       "      <td>2018</td>\n",
       "      <td>1</td>\n",
       "      <td>Hair band</td>\n",
       "      <td>322</td>\n",
       "      <td>492215.54</td>\n",
       "    </tr>\n",
       "  </tbody>\n",
       "</table>\n",
       "</div>"
      ],
      "text/plain": [
       "  MARKET  Year  Month    SUBTYPE  Sales Volume  Sales Value\n",
       "0  Japan  2018      1   Bracelet            10     10280.47\n",
       "1  Japan  2018      1       Ring            19     21850.04\n",
       "2  Japan  2018      1   Necklace            23     36795.41\n",
       "3  Japan  2018      1  Accessory             0         0.00\n",
       "4  Japan  2018      1  Hair band           322    492215.54"
      ]
     },
     "execution_count": 3,
     "metadata": {},
     "output_type": "execute_result"
    }
   ],
   "source": [
    "data.head()"
   ]
  },
  {
   "cell_type": "code",
   "execution_count": 4,
   "id": "7022db66",
   "metadata": {},
   "outputs": [
    {
     "name": "stdout",
     "output_type": "stream",
     "text": [
      "<class 'pandas.core.frame.DataFrame'>\n",
      "RangeIndex: 498 entries, 0 to 497\n",
      "Data columns (total 6 columns):\n",
      " #   Column        Non-Null Count  Dtype  \n",
      "---  ------        --------------  -----  \n",
      " 0   MARKET        498 non-null    object \n",
      " 1   Year          498 non-null    int64  \n",
      " 2   Month         498 non-null    int64  \n",
      " 3   SUBTYPE       498 non-null    object \n",
      " 4   Sales Volume  498 non-null    int64  \n",
      " 5   Sales Value   498 non-null    float64\n",
      "dtypes: float64(1), int64(3), object(2)\n",
      "memory usage: 23.5+ KB\n"
     ]
    }
   ],
   "source": [
    "data.info()"
   ]
  },
  {
   "cell_type": "code",
   "execution_count": 5,
   "id": "f418c071",
   "metadata": {},
   "outputs": [
    {
     "data": {
      "text/html": [
       "<div>\n",
       "<style scoped>\n",
       "    .dataframe tbody tr th:only-of-type {\n",
       "        vertical-align: middle;\n",
       "    }\n",
       "\n",
       "    .dataframe tbody tr th {\n",
       "        vertical-align: top;\n",
       "    }\n",
       "\n",
       "    .dataframe thead th {\n",
       "        text-align: right;\n",
       "    }\n",
       "</style>\n",
       "<table border=\"1\" class=\"dataframe\">\n",
       "  <thead>\n",
       "    <tr style=\"text-align: right;\">\n",
       "      <th></th>\n",
       "      <th>Year</th>\n",
       "      <th>Month</th>\n",
       "      <th>Sales Volume</th>\n",
       "      <th>Sales Value</th>\n",
       "    </tr>\n",
       "  </thead>\n",
       "  <tbody>\n",
       "    <tr>\n",
       "      <th>count</th>\n",
       "      <td>498.000000</td>\n",
       "      <td>498.000000</td>\n",
       "      <td>498.000000</td>\n",
       "      <td>4.980000e+02</td>\n",
       "    </tr>\n",
       "    <tr>\n",
       "      <th>mean</th>\n",
       "      <td>2019.064257</td>\n",
       "      <td>6.512048</td>\n",
       "      <td>59.355422</td>\n",
       "      <td>6.980867e+04</td>\n",
       "    </tr>\n",
       "    <tr>\n",
       "      <th>std</th>\n",
       "      <td>0.953595</td>\n",
       "      <td>3.472348</td>\n",
       "      <td>75.491816</td>\n",
       "      <td>1.032926e+05</td>\n",
       "    </tr>\n",
       "    <tr>\n",
       "      <th>min</th>\n",
       "      <td>2018.000000</td>\n",
       "      <td>1.000000</td>\n",
       "      <td>-1.000000</td>\n",
       "      <td>-1.679717e+05</td>\n",
       "    </tr>\n",
       "    <tr>\n",
       "      <th>25%</th>\n",
       "      <td>2018.000000</td>\n",
       "      <td>3.250000</td>\n",
       "      <td>13.000000</td>\n",
       "      <td>1.389833e+04</td>\n",
       "    </tr>\n",
       "    <tr>\n",
       "      <th>50%</th>\n",
       "      <td>2019.000000</td>\n",
       "      <td>7.000000</td>\n",
       "      <td>27.000000</td>\n",
       "      <td>3.272126e+04</td>\n",
       "    </tr>\n",
       "    <tr>\n",
       "      <th>75%</th>\n",
       "      <td>2020.000000</td>\n",
       "      <td>9.750000</td>\n",
       "      <td>81.000000</td>\n",
       "      <td>8.713739e+04</td>\n",
       "    </tr>\n",
       "    <tr>\n",
       "      <th>max</th>\n",
       "      <td>2030.000000</td>\n",
       "      <td>12.000000</td>\n",
       "      <td>610.000000</td>\n",
       "      <td>1.011205e+06</td>\n",
       "    </tr>\n",
       "  </tbody>\n",
       "</table>\n",
       "</div>"
      ],
      "text/plain": [
       "              Year       Month  Sales Volume   Sales Value\n",
       "count   498.000000  498.000000    498.000000  4.980000e+02\n",
       "mean   2019.064257    6.512048     59.355422  6.980867e+04\n",
       "std       0.953595    3.472348     75.491816  1.032926e+05\n",
       "min    2018.000000    1.000000     -1.000000 -1.679717e+05\n",
       "25%    2018.000000    3.250000     13.000000  1.389833e+04\n",
       "50%    2019.000000    7.000000     27.000000  3.272126e+04\n",
       "75%    2020.000000    9.750000     81.000000  8.713739e+04\n",
       "max    2030.000000   12.000000    610.000000  1.011205e+06"
      ]
     },
     "execution_count": 5,
     "metadata": {},
     "output_type": "execute_result"
    }
   ],
   "source": [
    "data.describe()"
   ]
  },
  {
   "cell_type": "code",
   "execution_count": null,
   "id": "e38af827",
   "metadata": {},
   "outputs": [],
   "source": []
  },
  {
   "cell_type": "markdown",
   "id": "f393ff14",
   "metadata": {},
   "source": [
    "**Task 2: Data quality issues and remedies**"
   ]
  },
  {
   "cell_type": "code",
   "execution_count": 6,
   "id": "0df97d1b",
   "metadata": {},
   "outputs": [
    {
     "data": {
      "text/plain": [
       "MARKET          0.0\n",
       "Year            0.0\n",
       "Month           0.0\n",
       "SUBTYPE         0.0\n",
       "Sales Volume    0.0\n",
       "Sales Value     0.0\n",
       "dtype: float64"
      ]
     },
     "execution_count": 6,
     "metadata": {},
     "output_type": "execute_result"
    }
   ],
   "source": [
    "## Checking for Null values in dataset\n",
    "\n",
    "data.isnull().sum()/len(data)"
   ]
  },
  {
   "cell_type": "markdown",
   "id": "69884f12",
   "metadata": {},
   "source": [
    "**Interpretations**\n",
    "- The data doesn't contain any null values"
   ]
  },
  {
   "cell_type": "markdown",
   "id": "dbdf689c",
   "metadata": {},
   "source": [
    "**Now we will check each columns if their are any insignificant values present or not**"
   ]
  },
  {
   "cell_type": "markdown",
   "id": "726c94bb",
   "metadata": {},
   "source": [
    "**MARKET**"
   ]
  },
  {
   "cell_type": "code",
   "execution_count": 7,
   "id": "28d1f465",
   "metadata": {},
   "outputs": [
    {
     "data": {
      "text/plain": [
       "array(['Japan', 'United Kingdom', 'USA', 'US'], dtype=object)"
      ]
     },
     "execution_count": 7,
     "metadata": {},
     "output_type": "execute_result"
    }
   ],
   "source": [
    "data['MARKET'].unique()"
   ]
  },
  {
   "cell_type": "code",
   "execution_count": 8,
   "id": "eb11291b",
   "metadata": {},
   "outputs": [
    {
     "data": {
      "text/plain": [
       "USA               166\n",
       "Japan             164\n",
       "United Kingdom    160\n",
       "US                  8\n",
       "Name: MARKET, dtype: int64"
      ]
     },
     "execution_count": 8,
     "metadata": {},
     "output_type": "execute_result"
    }
   ],
   "source": [
    "data['MARKET'].value_counts()"
   ]
  },
  {
   "cell_type": "markdown",
   "id": "166d12d2",
   "metadata": {},
   "source": [
    "**Here in Market columns there is two values namely USA and US representing the same category. Hence we will replace US with USA**"
   ]
  },
  {
   "cell_type": "code",
   "execution_count": 9,
   "id": "b7f5d49b",
   "metadata": {},
   "outputs": [],
   "source": [
    "data['MARKET']=data[\"MARKET\"].replace(\"US\", \"USA\")"
   ]
  },
  {
   "cell_type": "code",
   "execution_count": 10,
   "id": "d26d3934",
   "metadata": {},
   "outputs": [
    {
     "data": {
      "text/plain": [
       "USA               174\n",
       "Japan             164\n",
       "United Kingdom    160\n",
       "Name: MARKET, dtype: int64"
      ]
     },
     "execution_count": 10,
     "metadata": {},
     "output_type": "execute_result"
    }
   ],
   "source": [
    "data['MARKET'].value_counts()"
   ]
  },
  {
   "cell_type": "markdown",
   "id": "60e4a81e",
   "metadata": {},
   "source": [
    "**Year**"
   ]
  },
  {
   "cell_type": "code",
   "execution_count": 11,
   "id": "b25976bc",
   "metadata": {},
   "outputs": [
    {
     "data": {
      "text/plain": [
       "array([2018, 2019, 2020, 2030], dtype=int64)"
      ]
     },
     "execution_count": 11,
     "metadata": {},
     "output_type": "execute_result"
    }
   ],
   "source": [
    "data['Year'].unique()"
   ]
  },
  {
   "cell_type": "code",
   "execution_count": 12,
   "id": "f484b213",
   "metadata": {},
   "outputs": [
    {
     "data": {
      "text/plain": [
       "2020    177\n",
       "2019    164\n",
       "2018    156\n",
       "2030      1\n",
       "Name: Year, dtype: int64"
      ]
     },
     "execution_count": 12,
     "metadata": {},
     "output_type": "execute_result"
    }
   ],
   "source": [
    "data['Year'].value_counts()"
   ]
  },
  {
   "cell_type": "code",
   "execution_count": 13,
   "id": "37d0ebf5",
   "metadata": {},
   "outputs": [
    {
     "data": {
      "text/html": [
       "<div>\n",
       "<style scoped>\n",
       "    .dataframe tbody tr th:only-of-type {\n",
       "        vertical-align: middle;\n",
       "    }\n",
       "\n",
       "    .dataframe tbody tr th {\n",
       "        vertical-align: top;\n",
       "    }\n",
       "\n",
       "    .dataframe thead th {\n",
       "        text-align: right;\n",
       "    }\n",
       "</style>\n",
       "<table border=\"1\" class=\"dataframe\">\n",
       "  <thead>\n",
       "    <tr style=\"text-align: right;\">\n",
       "      <th></th>\n",
       "      <th>MARKET</th>\n",
       "      <th>Year</th>\n",
       "      <th>Month</th>\n",
       "      <th>SUBTYPE</th>\n",
       "      <th>Sales Volume</th>\n",
       "      <th>Sales Value</th>\n",
       "    </tr>\n",
       "  </thead>\n",
       "  <tbody>\n",
       "    <tr>\n",
       "      <th>490</th>\n",
       "      <td>USA</td>\n",
       "      <td>2030</td>\n",
       "      <td>11</td>\n",
       "      <td>Necklace</td>\n",
       "      <td>26</td>\n",
       "      <td>36246.53</td>\n",
       "    </tr>\n",
       "  </tbody>\n",
       "</table>\n",
       "</div>"
      ],
      "text/plain": [
       "    MARKET  Year  Month   SUBTYPE  Sales Volume  Sales Value\n",
       "490    USA  2030     11  Necklace            26     36246.53"
      ]
     },
     "execution_count": 13,
     "metadata": {},
     "output_type": "execute_result"
    }
   ],
   "source": [
    "data[data[\"Year\"]==2030]"
   ]
  },
  {
   "cell_type": "markdown",
   "id": "14b276d9",
   "metadata": {},
   "source": [
    "**In the Year column there is one entry of 2030  which maybe a wrong entry and Hence we will replace the value with 2020 which is the most occured value in the data set**"
   ]
  },
  {
   "cell_type": "code",
   "execution_count": 14,
   "id": "00879ed8",
   "metadata": {},
   "outputs": [],
   "source": [
    "data['Year']=data[\"Year\"].replace(2030, 2020)"
   ]
  },
  {
   "cell_type": "code",
   "execution_count": 15,
   "id": "3ab67b8a",
   "metadata": {},
   "outputs": [
    {
     "data": {
      "text/plain": [
       "2020    178\n",
       "2019    164\n",
       "2018    156\n",
       "Name: Year, dtype: int64"
      ]
     },
     "execution_count": 15,
     "metadata": {},
     "output_type": "execute_result"
    }
   ],
   "source": [
    "data['Year'].value_counts()"
   ]
  },
  {
   "cell_type": "code",
   "execution_count": null,
   "id": "1358a5d7",
   "metadata": {},
   "outputs": [],
   "source": []
  },
  {
   "cell_type": "markdown",
   "id": "cedcfd54",
   "metadata": {},
   "source": [
    "**SUBTYPE**"
   ]
  },
  {
   "cell_type": "code",
   "execution_count": 16,
   "id": "616a0942",
   "metadata": {},
   "outputs": [
    {
     "data": {
      "text/plain": [
       "array(['Bracelet', 'Ring', 'Necklace', 'Accessory', 'Hair band',\n",
       "       'Necklce', 'R+D94ng', 'Hairband', 'Ankle bracelet', 'Rng'],\n",
       "      dtype=object)"
      ]
     },
     "execution_count": 16,
     "metadata": {},
     "output_type": "execute_result"
    }
   ],
   "source": [
    "data['SUBTYPE'].unique()"
   ]
  },
  {
   "cell_type": "code",
   "execution_count": 17,
   "id": "6ac2625d",
   "metadata": {},
   "outputs": [
    {
     "data": {
      "text/plain": [
       "Bracelet          108\n",
       "Necklace          107\n",
       "Ring              106\n",
       "Hair band         100\n",
       "Accessory          67\n",
       "Hairband            6\n",
       "Necklce             1\n",
       "R+D94ng             1\n",
       "Ankle bracelet      1\n",
       "Rng                 1\n",
       "Name: SUBTYPE, dtype: int64"
      ]
     },
     "execution_count": 17,
     "metadata": {},
     "output_type": "execute_result"
    }
   ],
   "source": [
    "data['SUBTYPE'].value_counts()"
   ]
  },
  {
   "cell_type": "markdown",
   "id": "5c9333a3",
   "metadata": {},
   "source": [
    "**Their are some spelling mistakes in the columns such as \"Necklce\", 'Hairband', 'Rng'. Hence we will rename the values to original ones.**"
   ]
  },
  {
   "cell_type": "code",
   "execution_count": 18,
   "id": "454ca5b1",
   "metadata": {},
   "outputs": [],
   "source": [
    "\n",
    "data['SUBTYPE']=data['SUBTYPE'].str.replace(\"Rng\", \"Ring\")\n",
    "data['SUBTYPE']=data['SUBTYPE'].str.replace(\"Hairband\", \"Hair band\")\n",
    "data['SUBTYPE']=data['SUBTYPE'].str.replace(\"Necklce\", \"Necklace\")\n",
    "\n",
    "    "
   ]
  },
  {
   "cell_type": "code",
   "execution_count": 19,
   "id": "67d22127",
   "metadata": {},
   "outputs": [],
   "source": [
    "data['SUBTYPE']=data['SUBTYPE'].str.replace(\"R+D94ng\", \"Ring\",regex=False)"
   ]
  },
  {
   "cell_type": "code",
   "execution_count": 20,
   "id": "4f2c7af4",
   "metadata": {},
   "outputs": [
    {
     "data": {
      "text/plain": [
       "Bracelet          108\n",
       "Ring              108\n",
       "Necklace          108\n",
       "Hair band         106\n",
       "Accessory          67\n",
       "Ankle bracelet      1\n",
       "Name: SUBTYPE, dtype: int64"
      ]
     },
     "execution_count": 20,
     "metadata": {},
     "output_type": "execute_result"
    }
   ],
   "source": [
    "data['SUBTYPE'].value_counts()"
   ]
  },
  {
   "cell_type": "markdown",
   "id": "7d105522",
   "metadata": {},
   "source": [
    "**Month**"
   ]
  },
  {
   "cell_type": "code",
   "execution_count": 21,
   "id": "d32d4dc6",
   "metadata": {},
   "outputs": [
    {
     "data": {
      "text/plain": [
       "1     44\n",
       "9     43\n",
       "6     42\n",
       "7     42\n",
       "11    42\n",
       "12    42\n",
       "3     41\n",
       "4     41\n",
       "8     41\n",
       "10    41\n",
       "2     40\n",
       "5     39\n",
       "Name: Month, dtype: int64"
      ]
     },
     "execution_count": 21,
     "metadata": {},
     "output_type": "execute_result"
    }
   ],
   "source": [
    "data[\"Month\"].value_counts()"
   ]
  },
  {
   "cell_type": "markdown",
   "id": "de5561f6",
   "metadata": {},
   "source": [
    "**Task 3: Data analysis and commentary**"
   ]
  },
  {
   "cell_type": "markdown",
   "id": "1d685f17",
   "metadata": {},
   "source": [
    "### EDA"
   ]
  },
  {
   "cell_type": "markdown",
   "id": "e214992b",
   "metadata": {},
   "source": [
    "**Univariate Analysis**"
   ]
  },
  {
   "cell_type": "markdown",
   "id": "ca7294ff",
   "metadata": {},
   "source": [
    "**Month**"
   ]
  },
  {
   "cell_type": "code",
   "execution_count": 22,
   "id": "2207f147",
   "metadata": {},
   "outputs": [
    {
     "data": {
      "text/plain": [
       "1     44\n",
       "9     43\n",
       "6     42\n",
       "7     42\n",
       "11    42\n",
       "12    42\n",
       "3     41\n",
       "4     41\n",
       "8     41\n",
       "10    41\n",
       "2     40\n",
       "5     39\n",
       "Name: Month, dtype: int64"
      ]
     },
     "execution_count": 22,
     "metadata": {},
     "output_type": "execute_result"
    }
   ],
   "source": [
    "data['Month'].value_counts()"
   ]
  },
  {
   "cell_type": "code",
   "execution_count": 23,
   "id": "c663da4b",
   "metadata": {
    "scrolled": true
   },
   "outputs": [
    {
     "data": {
      "image/png": "[encoded data removed]",
      "text/plain": [
       "<Figure size 432x288 with 1 Axes>"
      ]
     },
     "metadata": {},
     "output_type": "display_data"
    }
   ],
   "source": [
    "plt.style.use(\"seaborn-whitegrid\")\n",
    "sns.countplot(data[\"Month\"], edgecolor=\"black\", palette=\"Set2\")\n",
    "plt.title(\"Month\")\n",
    "plt.xlabel(\"Month\")\n",
    "plt.ylabel(\"Counts\");"
   ]
  },
  {
   "cell_type": "markdown",
   "id": "45420358",
   "metadata": {},
   "source": [
    "**Interpretations**\n",
    "\n",
    "- Overall month 1 i.e is January has highest count ."
   ]
  },
  {
   "cell_type": "markdown",
   "id": "0e80cbe4",
   "metadata": {},
   "source": [
    "**Year**"
   ]
  },
  {
   "cell_type": "code",
   "execution_count": 52,
   "id": "f217cfc8",
   "metadata": {},
   "outputs": [
    {
     "data": {
      "text/html": [
       "<div>\n",
       "<style scoped>\n",
       "    .dataframe tbody tr th:only-of-type {\n",
       "        vertical-align: middle;\n",
       "    }\n",
       "\n",
       "    .dataframe tbody tr th {\n",
       "        vertical-align: top;\n",
       "    }\n",
       "\n",
       "    .dataframe thead th {\n",
       "        text-align: right;\n",
       "    }\n",
       "</style>\n",
       "<table border=\"1\" class=\"dataframe\">\n",
       "  <thead>\n",
       "    <tr style=\"text-align: right;\">\n",
       "      <th></th>\n",
       "      <th>Sales Volume</th>\n",
       "      <th>Sales Value</th>\n",
       "    </tr>\n",
       "    <tr>\n",
       "      <th>Year</th>\n",
       "      <th></th>\n",
       "      <th></th>\n",
       "    </tr>\n",
       "  </thead>\n",
       "  <tbody>\n",
       "    <tr>\n",
       "      <th>2018</th>\n",
       "      <td>10325</td>\n",
       "      <td>12473478.65</td>\n",
       "    </tr>\n",
       "    <tr>\n",
       "      <th>2019</th>\n",
       "      <td>10035</td>\n",
       "      <td>11789819.31</td>\n",
       "    </tr>\n",
       "    <tr>\n",
       "      <th>2020</th>\n",
       "      <td>9199</td>\n",
       "      <td>10501418.74</td>\n",
       "    </tr>\n",
       "  </tbody>\n",
       "</table>\n",
       "</div>"
      ],
      "text/plain": [
       "      Sales Volume  Sales Value\n",
       "Year                           \n",
       "2018         10325  12473478.65\n",
       "2019         10035  11789819.31\n",
       "2020          9199  10501418.74"
      ]
     },
     "execution_count": 52,
     "metadata": {},
     "output_type": "execute_result"
    }
   ],
   "source": [
    "year_df=data.groupby(\"Year\")[['Sales Volume','Sales Value']].sum().round(2)\n",
    "year_df"
   ]
  },
  {
   "cell_type": "code",
   "execution_count": 25,
   "id": "25d80a25",
   "metadata": {},
   "outputs": [
    {
     "data": {
      "image/png": "[encoded data removed]",
      "text/plain": [
       "<Figure size 432x288 with 1 Axes>"
      ]
     },
     "metadata": {},
     "output_type": "display_data"
    }
   ],
   "source": [
    "plt.style.use(\"seaborn-whitegrid\")\n",
    "sns.barplot(x=year_df.index,y=year_df[\"Sales Value\"], edgecolor=\"black\",palette=\"Set2\" )\n",
    "plt.title(\"Year\")\n",
    "plt.xlabel(\"Year\")\n",
    "plt.ylabel(\"Total Sales Value per Year\");"
   ]
  },
  {
   "cell_type": "markdown",
   "id": "d325dd2c",
   "metadata": {},
   "source": [
    "**SUBTYPE**"
   ]
  },
  {
   "cell_type": "code",
   "execution_count": 26,
   "id": "c15d4fe1",
   "metadata": {},
   "outputs": [
    {
     "name": "stdout",
     "output_type": "stream",
     "text": [
      "Rectangle(xy=(-0.25, 0), width=0.5, height=574, angle=0)\n",
      "Rectangle(xy=(0.75, 0), width=0.5, height=10, angle=0)\n",
      "Rectangle(xy=(1.75, 0), width=0.5, height=11039, angle=0)\n",
      "Rectangle(xy=(2.75, 0), width=0.5, height=11566, angle=0)\n",
      "Rectangle(xy=(3.75, 0), width=0.5, height=4026, angle=0)\n",
      "Rectangle(xy=(4.75, 0), width=0.5, height=2344, angle=0)\n"
     ]
    },
    {
     "data": {
      "image/png": "[encoded data removed]",
      "text/plain": [
       "<Figure size 432x288 with 1 Axes>"
      ]
     },
     "metadata": {},
     "output_type": "display_data"
    }
   ],
   "source": [
    "ax=data.groupby(by=\"SUBTYPE\")['Sales Volume'].sum().plot(kind='bar', color=\"tomato\")\n",
    "\n",
    "for bar in ax.patches:\n",
    "    print(bar)\n",
    "\n",
    "\n",
    "for bar in ax.patches:\n",
    "    \n",
    "    plt.annotate(format(bar.get_height(), '0.2f'),\n",
    "               (bar.get_x() + bar.get_width() / 2,\n",
    "                bar.get_height()), ha='center', va='center',\n",
    "               size=10, xytext=(0, 8),\n",
    "               textcoords='offset points')\n"
   ]
  },
  {
   "cell_type": "code",
   "execution_count": 27,
   "id": "ec7e3a9d",
   "metadata": {},
   "outputs": [
    {
     "data": {
      "image/png": "[encoded data removed]",
      "text/plain": [
       "<Figure size 432x288 with 1 Axes>"
      ]
     },
     "metadata": {},
     "output_type": "display_data"
    }
   ],
   "source": [
    "ax=data.groupby(by=\"SUBTYPE\")['Sales Value'].mean().plot(kind='bar', color=\"tomato\")\n",
    "\n",
    "\n",
    "\n",
    "for bar in ax.patches:\n",
    "    \n",
    "    plt.annotate(format(bar.get_height(), '0.2f'),\n",
    "               (bar.get_x() + bar.get_width() / 2,\n",
    "                bar.get_height()), ha='center', va='center',\n",
    "               size=10, xytext=(0, 8),\n",
    "               textcoords='offset points')"
   ]
  },
  {
   "cell_type": "code",
   "execution_count": 28,
   "id": "a564e0a3",
   "metadata": {},
   "outputs": [
    {
     "data": {
      "image/png": "[encoded data removed]",
      "text/plain": [
       "<Figure size 432x288 with 1 Axes>"
      ]
     },
     "metadata": {},
     "output_type": "display_data"
    }
   ],
   "source": [
    "ax=data.groupby(by=\"SUBTYPE\")['Sales Volume'].mean().plot(kind='bar', color=\"tomato\")\n",
    "\n",
    "\n",
    "\n",
    "for bar in ax.patches:\n",
    "    \n",
    "    plt.annotate(format(bar.get_height(), '0.2f'),\n",
    "               (bar.get_x() + bar.get_width() / 2,\n",
    "                bar.get_height()), ha='center', va='center',\n",
    "               size=10, xytext=(0, 8),\n",
    "               textcoords='offset points')"
   ]
  },
  {
   "cell_type": "code",
   "execution_count": 29,
   "id": "aa7aef86",
   "metadata": {},
   "outputs": [
    {
     "data": {
      "image/png": "[encoded data removed]",
      "text/plain": [
       "<Figure size 432x288 with 1 Axes>"
      ]
     },
     "metadata": {},
     "output_type": "display_data"
    }
   ],
   "source": [
    "ax=data.groupby(by=\"MARKET\")['Sales Value'].mean().plot(kind='bar', color=\"tomato\")\n",
    "\n",
    "\n",
    "\n",
    "for bar in ax.patches:\n",
    "    \n",
    "    plt.annotate(format(bar.get_height(), '0.2f'),\n",
    "               (bar.get_x() + bar.get_width() / 2,\n",
    "                bar.get_height()), ha='center', va='center',\n",
    "               size=10, xytext=(0, 8),\n",
    "               textcoords='offset points')"
   ]
  },
  {
   "cell_type": "code",
   "execution_count": 30,
   "id": "6bceb0c1",
   "metadata": {},
   "outputs": [
    {
     "data": {
      "image/png": "[encoded data removed]",
      "text/plain": [
       "<Figure size 432x288 with 1 Axes>"
      ]
     },
     "metadata": {},
     "output_type": "display_data"
    }
   ],
   "source": [
    "ax=data.groupby(by=\"MARKET\")['Sales Volume'].mean().plot(kind='bar', color=\"tomato\")\n",
    "\n",
    "\n",
    "\n",
    "for bar in ax.patches:\n",
    "    \n",
    "    plt.annotate(format(bar.get_height(), '0.2f'),\n",
    "               (bar.get_x() + bar.get_width() / 2,\n",
    "                bar.get_height()), ha='center', va='center',\n",
    "               size=10, xytext=(0, 8),\n",
    "               textcoords='offset points')"
   ]
  },
  {
   "cell_type": "markdown",
   "id": "caad65b1",
   "metadata": {},
   "source": [
    "**Interpretations**\n",
    "\n",
    "- Overall time-period the number of Hair band sold is maximum.\n",
    "\n",
    "- Over 3 years period the number of ankle bracelete sold is minimum i.e only 10.\n",
    "\n",
    "\n"
   ]
  },
  {
   "cell_type": "markdown",
   "id": "8beffa0f",
   "metadata": {},
   "source": [
    "**Sales Volume**"
   ]
  },
  {
   "cell_type": "code",
   "execution_count": 31,
   "id": "f55c043c",
   "metadata": {},
   "outputs": [
    {
     "data": {
      "text/html": [
       "<div>\n",
       "<style scoped>\n",
       "    .dataframe tbody tr th:only-of-type {\n",
       "        vertical-align: middle;\n",
       "    }\n",
       "\n",
       "    .dataframe tbody tr th {\n",
       "        vertical-align: top;\n",
       "    }\n",
       "\n",
       "    .dataframe thead th {\n",
       "        text-align: right;\n",
       "    }\n",
       "</style>\n",
       "<table border=\"1\" class=\"dataframe\">\n",
       "  <thead>\n",
       "    <tr style=\"text-align: right;\">\n",
       "      <th></th>\n",
       "      <th>Year</th>\n",
       "      <th>Month</th>\n",
       "      <th>Sales Volume</th>\n",
       "      <th>Sales Value</th>\n",
       "    </tr>\n",
       "  </thead>\n",
       "  <tbody>\n",
       "    <tr>\n",
       "      <th>count</th>\n",
       "      <td>498.000000</td>\n",
       "      <td>498.000000</td>\n",
       "      <td>498.000000</td>\n",
       "      <td>4.980000e+02</td>\n",
       "    </tr>\n",
       "    <tr>\n",
       "      <th>mean</th>\n",
       "      <td>2019.044177</td>\n",
       "      <td>6.512048</td>\n",
       "      <td>59.355422</td>\n",
       "      <td>6.980867e+04</td>\n",
       "    </tr>\n",
       "    <tr>\n",
       "      <th>std</th>\n",
       "      <td>0.818582</td>\n",
       "      <td>3.472348</td>\n",
       "      <td>75.491816</td>\n",
       "      <td>1.032926e+05</td>\n",
       "    </tr>\n",
       "    <tr>\n",
       "      <th>min</th>\n",
       "      <td>2018.000000</td>\n",
       "      <td>1.000000</td>\n",
       "      <td>-1.000000</td>\n",
       "      <td>-1.679717e+05</td>\n",
       "    </tr>\n",
       "    <tr>\n",
       "      <th>25%</th>\n",
       "      <td>2018.000000</td>\n",
       "      <td>3.250000</td>\n",
       "      <td>13.000000</td>\n",
       "      <td>1.389833e+04</td>\n",
       "    </tr>\n",
       "    <tr>\n",
       "      <th>50%</th>\n",
       "      <td>2019.000000</td>\n",
       "      <td>7.000000</td>\n",
       "      <td>27.000000</td>\n",
       "      <td>3.272126e+04</td>\n",
       "    </tr>\n",
       "    <tr>\n",
       "      <th>75%</th>\n",
       "      <td>2020.000000</td>\n",
       "      <td>9.750000</td>\n",
       "      <td>81.000000</td>\n",
       "      <td>8.713739e+04</td>\n",
       "    </tr>\n",
       "    <tr>\n",
       "      <th>max</th>\n",
       "      <td>2020.000000</td>\n",
       "      <td>12.000000</td>\n",
       "      <td>610.000000</td>\n",
       "      <td>1.011205e+06</td>\n",
       "    </tr>\n",
       "  </tbody>\n",
       "</table>\n",
       "</div>"
      ],
      "text/plain": [
       "              Year       Month  Sales Volume   Sales Value\n",
       "count   498.000000  498.000000    498.000000  4.980000e+02\n",
       "mean   2019.044177    6.512048     59.355422  6.980867e+04\n",
       "std       0.818582    3.472348     75.491816  1.032926e+05\n",
       "min    2018.000000    1.000000     -1.000000 -1.679717e+05\n",
       "25%    2018.000000    3.250000     13.000000  1.389833e+04\n",
       "50%    2019.000000    7.000000     27.000000  3.272126e+04\n",
       "75%    2020.000000    9.750000     81.000000  8.713739e+04\n",
       "max    2020.000000   12.000000    610.000000  1.011205e+06"
      ]
     },
     "execution_count": 31,
     "metadata": {},
     "output_type": "execute_result"
    }
   ],
   "source": [
    "data.describe()"
   ]
  },
  {
   "cell_type": "code",
   "execution_count": 32,
   "id": "e56b96fa",
   "metadata": {},
   "outputs": [
    {
     "data": {
      "text/html": [
       "<div>\n",
       "<style scoped>\n",
       "    .dataframe tbody tr th:only-of-type {\n",
       "        vertical-align: middle;\n",
       "    }\n",
       "\n",
       "    .dataframe tbody tr th {\n",
       "        vertical-align: top;\n",
       "    }\n",
       "\n",
       "    .dataframe thead th {\n",
       "        text-align: right;\n",
       "    }\n",
       "</style>\n",
       "<table border=\"1\" class=\"dataframe\">\n",
       "  <thead>\n",
       "    <tr style=\"text-align: right;\">\n",
       "      <th></th>\n",
       "      <th>MARKET</th>\n",
       "      <th>Year</th>\n",
       "      <th>Month</th>\n",
       "      <th>SUBTYPE</th>\n",
       "      <th>Sales Volume</th>\n",
       "      <th>Sales Value</th>\n",
       "    </tr>\n",
       "  </thead>\n",
       "  <tbody>\n",
       "    <tr>\n",
       "      <th>0</th>\n",
       "      <td>Japan</td>\n",
       "      <td>2018</td>\n",
       "      <td>1</td>\n",
       "      <td>Bracelet</td>\n",
       "      <td>10</td>\n",
       "      <td>10280.47</td>\n",
       "    </tr>\n",
       "    <tr>\n",
       "      <th>1</th>\n",
       "      <td>Japan</td>\n",
       "      <td>2018</td>\n",
       "      <td>1</td>\n",
       "      <td>Ring</td>\n",
       "      <td>19</td>\n",
       "      <td>21850.04</td>\n",
       "    </tr>\n",
       "    <tr>\n",
       "      <th>2</th>\n",
       "      <td>Japan</td>\n",
       "      <td>2018</td>\n",
       "      <td>1</td>\n",
       "      <td>Necklace</td>\n",
       "      <td>23</td>\n",
       "      <td>36795.41</td>\n",
       "    </tr>\n",
       "    <tr>\n",
       "      <th>3</th>\n",
       "      <td>Japan</td>\n",
       "      <td>2018</td>\n",
       "      <td>1</td>\n",
       "      <td>Accessory</td>\n",
       "      <td>0</td>\n",
       "      <td>0.00</td>\n",
       "    </tr>\n",
       "    <tr>\n",
       "      <th>4</th>\n",
       "      <td>Japan</td>\n",
       "      <td>2018</td>\n",
       "      <td>1</td>\n",
       "      <td>Hair band</td>\n",
       "      <td>322</td>\n",
       "      <td>492215.54</td>\n",
       "    </tr>\n",
       "  </tbody>\n",
       "</table>\n",
       "</div>"
      ],
      "text/plain": [
       "  MARKET  Year  Month    SUBTYPE  Sales Volume  Sales Value\n",
       "0  Japan  2018      1   Bracelet            10     10280.47\n",
       "1  Japan  2018      1       Ring            19     21850.04\n",
       "2  Japan  2018      1   Necklace            23     36795.41\n",
       "3  Japan  2018      1  Accessory             0         0.00\n",
       "4  Japan  2018      1  Hair band           322    492215.54"
      ]
     },
     "execution_count": 32,
     "metadata": {},
     "output_type": "execute_result"
    }
   ],
   "source": [
    "data.head()"
   ]
  },
  {
   "cell_type": "code",
   "execution_count": 33,
   "id": "9bfbed1c",
   "metadata": {},
   "outputs": [],
   "source": [
    "Quaters=[]\n",
    "\n",
    "for i in data[\"Month\"]:\n",
    "    if i<=4:\n",
    "        Quaters.append('Q1')\n",
    "    elif i>4 and i<=8:\n",
    "        Quaters.append('Q2')\n",
    "    else:\n",
    "        Quaters.append('Q3')"
   ]
  },
  {
   "cell_type": "code",
   "execution_count": 34,
   "id": "5d1089aa",
   "metadata": {},
   "outputs": [],
   "source": [
    "data[\"Quaters\"]=Quaters"
   ]
  },
  {
   "cell_type": "code",
   "execution_count": 35,
   "id": "bd24c4f1",
   "metadata": {},
   "outputs": [
    {
     "data": {
      "text/html": [
       "<div>\n",
       "<style scoped>\n",
       "    .dataframe tbody tr th:only-of-type {\n",
       "        vertical-align: middle;\n",
       "    }\n",
       "\n",
       "    .dataframe tbody tr th {\n",
       "        vertical-align: top;\n",
       "    }\n",
       "\n",
       "    .dataframe thead th {\n",
       "        text-align: right;\n",
       "    }\n",
       "</style>\n",
       "<table border=\"1\" class=\"dataframe\">\n",
       "  <thead>\n",
       "    <tr style=\"text-align: right;\">\n",
       "      <th></th>\n",
       "      <th>MARKET</th>\n",
       "      <th>Year</th>\n",
       "      <th>Month</th>\n",
       "      <th>SUBTYPE</th>\n",
       "      <th>Sales Volume</th>\n",
       "      <th>Sales Value</th>\n",
       "      <th>Quaters</th>\n",
       "    </tr>\n",
       "  </thead>\n",
       "  <tbody>\n",
       "    <tr>\n",
       "      <th>0</th>\n",
       "      <td>Japan</td>\n",
       "      <td>2018</td>\n",
       "      <td>1</td>\n",
       "      <td>Bracelet</td>\n",
       "      <td>10</td>\n",
       "      <td>10280.47</td>\n",
       "      <td>Q1</td>\n",
       "    </tr>\n",
       "    <tr>\n",
       "      <th>1</th>\n",
       "      <td>Japan</td>\n",
       "      <td>2018</td>\n",
       "      <td>1</td>\n",
       "      <td>Ring</td>\n",
       "      <td>19</td>\n",
       "      <td>21850.04</td>\n",
       "      <td>Q1</td>\n",
       "    </tr>\n",
       "    <tr>\n",
       "      <th>2</th>\n",
       "      <td>Japan</td>\n",
       "      <td>2018</td>\n",
       "      <td>1</td>\n",
       "      <td>Necklace</td>\n",
       "      <td>23</td>\n",
       "      <td>36795.41</td>\n",
       "      <td>Q1</td>\n",
       "    </tr>\n",
       "    <tr>\n",
       "      <th>3</th>\n",
       "      <td>Japan</td>\n",
       "      <td>2018</td>\n",
       "      <td>1</td>\n",
       "      <td>Accessory</td>\n",
       "      <td>0</td>\n",
       "      <td>0.00</td>\n",
       "      <td>Q1</td>\n",
       "    </tr>\n",
       "    <tr>\n",
       "      <th>4</th>\n",
       "      <td>Japan</td>\n",
       "      <td>2018</td>\n",
       "      <td>1</td>\n",
       "      <td>Hair band</td>\n",
       "      <td>322</td>\n",
       "      <td>492215.54</td>\n",
       "      <td>Q1</td>\n",
       "    </tr>\n",
       "  </tbody>\n",
       "</table>\n",
       "</div>"
      ],
      "text/plain": [
       "  MARKET  Year  Month    SUBTYPE  Sales Volume  Sales Value Quaters\n",
       "0  Japan  2018      1   Bracelet            10     10280.47      Q1\n",
       "1  Japan  2018      1       Ring            19     21850.04      Q1\n",
       "2  Japan  2018      1   Necklace            23     36795.41      Q1\n",
       "3  Japan  2018      1  Accessory             0         0.00      Q1\n",
       "4  Japan  2018      1  Hair band           322    492215.54      Q1"
      ]
     },
     "execution_count": 35,
     "metadata": {},
     "output_type": "execute_result"
    }
   ],
   "source": [
    "data.head()"
   ]
  },
  {
   "cell_type": "markdown",
   "id": "a688e832",
   "metadata": {},
   "source": [
    "**Interpretations**\n",
    " - We have divided the whole into 3 Quaters namely Q1, Q2, Q3, as we have to do furter analysis on quater basis"
   ]
  },
  {
   "cell_type": "code",
   "execution_count": 36,
   "id": "7eeeb337",
   "metadata": {},
   "outputs": [
    {
     "data": {
      "text/html": [
       "<div>\n",
       "<style scoped>\n",
       "    .dataframe tbody tr th:only-of-type {\n",
       "        vertical-align: middle;\n",
       "    }\n",
       "\n",
       "    .dataframe tbody tr th {\n",
       "        vertical-align: top;\n",
       "    }\n",
       "\n",
       "    .dataframe thead th {\n",
       "        text-align: right;\n",
       "    }\n",
       "</style>\n",
       "<table border=\"1\" class=\"dataframe\">\n",
       "  <thead>\n",
       "    <tr style=\"text-align: right;\">\n",
       "      <th></th>\n",
       "      <th></th>\n",
       "      <th>Sales Value</th>\n",
       "      <th>Sales Volume</th>\n",
       "    </tr>\n",
       "    <tr>\n",
       "      <th>Year</th>\n",
       "      <th>Month</th>\n",
       "      <th></th>\n",
       "      <th></th>\n",
       "    </tr>\n",
       "  </thead>\n",
       "  <tbody>\n",
       "    <tr>\n",
       "      <th rowspan=\"12\" valign=\"top\">2018</th>\n",
       "      <th>1</th>\n",
       "      <td>75196.470667</td>\n",
       "      <td>61.333333</td>\n",
       "    </tr>\n",
       "    <tr>\n",
       "      <th>2</th>\n",
       "      <td>90567.792308</td>\n",
       "      <td>73.923077</td>\n",
       "    </tr>\n",
       "    <tr>\n",
       "      <th>3</th>\n",
       "      <td>75708.736429</td>\n",
       "      <td>63.214286</td>\n",
       "    </tr>\n",
       "    <tr>\n",
       "      <th>4</th>\n",
       "      <td>60732.165714</td>\n",
       "      <td>53.357143</td>\n",
       "    </tr>\n",
       "    <tr>\n",
       "      <th>5</th>\n",
       "      <td>81426.871667</td>\n",
       "      <td>63.583333</td>\n",
       "    </tr>\n",
       "    <tr>\n",
       "      <th>6</th>\n",
       "      <td>112120.612500</td>\n",
       "      <td>85.916667</td>\n",
       "    </tr>\n",
       "    <tr>\n",
       "      <th>7</th>\n",
       "      <td>69847.109231</td>\n",
       "      <td>58.000000</td>\n",
       "    </tr>\n",
       "    <tr>\n",
       "      <th>8</th>\n",
       "      <td>74190.802500</td>\n",
       "      <td>63.916667</td>\n",
       "    </tr>\n",
       "    <tr>\n",
       "      <th>9</th>\n",
       "      <td>106219.332308</td>\n",
       "      <td>88.000000</td>\n",
       "    </tr>\n",
       "    <tr>\n",
       "      <th>10</th>\n",
       "      <td>57455.571667</td>\n",
       "      <td>48.916667</td>\n",
       "    </tr>\n",
       "    <tr>\n",
       "      <th>11</th>\n",
       "      <td>60929.993077</td>\n",
       "      <td>53.000000</td>\n",
       "    </tr>\n",
       "    <tr>\n",
       "      <th>12</th>\n",
       "      <td>98053.670000</td>\n",
       "      <td>82.846154</td>\n",
       "    </tr>\n",
       "    <tr>\n",
       "      <th rowspan=\"12\" valign=\"top\">2019</th>\n",
       "      <th>1</th>\n",
       "      <td>62472.415714</td>\n",
       "      <td>54.071429</td>\n",
       "    </tr>\n",
       "    <tr>\n",
       "      <th>2</th>\n",
       "      <td>81972.981667</td>\n",
       "      <td>72.833333</td>\n",
       "    </tr>\n",
       "    <tr>\n",
       "      <th>3</th>\n",
       "      <td>79065.622500</td>\n",
       "      <td>72.500000</td>\n",
       "    </tr>\n",
       "    <tr>\n",
       "      <th>4</th>\n",
       "      <td>63512.450000</td>\n",
       "      <td>53.666667</td>\n",
       "    </tr>\n",
       "    <tr>\n",
       "      <th>5</th>\n",
       "      <td>77496.646667</td>\n",
       "      <td>65.583333</td>\n",
       "    </tr>\n",
       "    <tr>\n",
       "      <th>6</th>\n",
       "      <td>118371.420000</td>\n",
       "      <td>88.866667</td>\n",
       "    </tr>\n",
       "    <tr>\n",
       "      <th>7</th>\n",
       "      <td>68554.796667</td>\n",
       "      <td>57.266667</td>\n",
       "    </tr>\n",
       "    <tr>\n",
       "      <th>8</th>\n",
       "      <td>62156.149333</td>\n",
       "      <td>52.866667</td>\n",
       "    </tr>\n",
       "    <tr>\n",
       "      <th>9</th>\n",
       "      <td>82001.402000</td>\n",
       "      <td>72.866667</td>\n",
       "    </tr>\n",
       "    <tr>\n",
       "      <th>10</th>\n",
       "      <td>44882.122143</td>\n",
       "      <td>40.000000</td>\n",
       "    </tr>\n",
       "    <tr>\n",
       "      <th>11</th>\n",
       "      <td>48242.745714</td>\n",
       "      <td>42.642857</td>\n",
       "    </tr>\n",
       "    <tr>\n",
       "      <th>12</th>\n",
       "      <td>72902.029286</td>\n",
       "      <td>62.000000</td>\n",
       "    </tr>\n",
       "    <tr>\n",
       "      <th rowspan=\"12\" valign=\"top\">2020</th>\n",
       "      <th>1</th>\n",
       "      <td>52984.918000</td>\n",
       "      <td>44.733333</td>\n",
       "    </tr>\n",
       "    <tr>\n",
       "      <th>2</th>\n",
       "      <td>68807.832000</td>\n",
       "      <td>54.333333</td>\n",
       "    </tr>\n",
       "    <tr>\n",
       "      <th>3</th>\n",
       "      <td>63188.684667</td>\n",
       "      <td>53.000000</td>\n",
       "    </tr>\n",
       "    <tr>\n",
       "      <th>4</th>\n",
       "      <td>28438.416667</td>\n",
       "      <td>42.200000</td>\n",
       "    </tr>\n",
       "    <tr>\n",
       "      <th>5</th>\n",
       "      <td>70678.519333</td>\n",
       "      <td>60.533333</td>\n",
       "    </tr>\n",
       "    <tr>\n",
       "      <th>6</th>\n",
       "      <td>96420.378000</td>\n",
       "      <td>82.266667</td>\n",
       "    </tr>\n",
       "    <tr>\n",
       "      <th>7</th>\n",
       "      <td>68796.122857</td>\n",
       "      <td>61.000000</td>\n",
       "    </tr>\n",
       "    <tr>\n",
       "      <th>8</th>\n",
       "      <td>55930.959286</td>\n",
       "      <td>50.357143</td>\n",
       "    </tr>\n",
       "    <tr>\n",
       "      <th>9</th>\n",
       "      <td>76794.413333</td>\n",
       "      <td>63.733333</td>\n",
       "    </tr>\n",
       "    <tr>\n",
       "      <th>10</th>\n",
       "      <td>37360.079333</td>\n",
       "      <td>33.400000</td>\n",
       "    </tr>\n",
       "    <tr>\n",
       "      <th>11</th>\n",
       "      <td>44923.445333</td>\n",
       "      <td>39.600000</td>\n",
       "    </tr>\n",
       "    <tr>\n",
       "      <th>12</th>\n",
       "      <td>44085.952667</td>\n",
       "      <td>35.533333</td>\n",
       "    </tr>\n",
       "  </tbody>\n",
       "</table>\n",
       "</div>"
      ],
      "text/plain": [
       "              Sales Value  Sales Volume\n",
       "Year Month                             \n",
       "2018 1       75196.470667     61.333333\n",
       "     2       90567.792308     73.923077\n",
       "     3       75708.736429     63.214286\n",
       "     4       60732.165714     53.357143\n",
       "     5       81426.871667     63.583333\n",
       "     6      112120.612500     85.916667\n",
       "     7       69847.109231     58.000000\n",
       "     8       74190.802500     63.916667\n",
       "     9      106219.332308     88.000000\n",
       "     10      57455.571667     48.916667\n",
       "     11      60929.993077     53.000000\n",
       "     12      98053.670000     82.846154\n",
       "2019 1       62472.415714     54.071429\n",
       "     2       81972.981667     72.833333\n",
       "     3       79065.622500     72.500000\n",
       "     4       63512.450000     53.666667\n",
       "     5       77496.646667     65.583333\n",
       "     6      118371.420000     88.866667\n",
       "     7       68554.796667     57.266667\n",
       "     8       62156.149333     52.866667\n",
       "     9       82001.402000     72.866667\n",
       "     10      44882.122143     40.000000\n",
       "     11      48242.745714     42.642857\n",
       "     12      72902.029286     62.000000\n",
       "2020 1       52984.918000     44.733333\n",
       "     2       68807.832000     54.333333\n",
       "     3       63188.684667     53.000000\n",
       "     4       28438.416667     42.200000\n",
       "     5       70678.519333     60.533333\n",
       "     6       96420.378000     82.266667\n",
       "     7       68796.122857     61.000000\n",
       "     8       55930.959286     50.357143\n",
       "     9       76794.413333     63.733333\n",
       "     10      37360.079333     33.400000\n",
       "     11      44923.445333     39.600000\n",
       "     12      44085.952667     35.533333"
      ]
     },
     "execution_count": 36,
     "metadata": {},
     "output_type": "execute_result"
    }
   ],
   "source": [
    "# Table A\n",
    "\n",
    "table_A=data.groupby(['Year','Month'])[['Sales Value', 'Sales Volume']].mean()\n",
    "table_A"
   ]
  },
  {
   "cell_type": "markdown",
   "id": "5a7648ba",
   "metadata": {},
   "source": [
    " **Interpretations**\n",
    " - Table_A shows the comparison of Sales value and volume on the basis of year and each month,\n",
    " - Here we will get an overview of the average sales and volume."
   ]
  },
  {
   "cell_type": "code",
   "execution_count": 57,
   "id": "419c0089",
   "metadata": {},
   "outputs": [
    {
     "data": {
      "text/html": [
       "<div>\n",
       "<style scoped>\n",
       "    .dataframe tbody tr th:only-of-type {\n",
       "        vertical-align: middle;\n",
       "    }\n",
       "\n",
       "    .dataframe tbody tr th {\n",
       "        vertical-align: top;\n",
       "    }\n",
       "\n",
       "    .dataframe thead th {\n",
       "        text-align: right;\n",
       "    }\n",
       "</style>\n",
       "<table border=\"1\" class=\"dataframe\">\n",
       "  <thead>\n",
       "    <tr style=\"text-align: right;\">\n",
       "      <th></th>\n",
       "      <th>Sales Value</th>\n",
       "      <th>Sales Volume</th>\n",
       "    </tr>\n",
       "    <tr>\n",
       "      <th>Quaters</th>\n",
       "      <th></th>\n",
       "      <th></th>\n",
       "    </tr>\n",
       "  </thead>\n",
       "  <tbody>\n",
       "    <tr>\n",
       "      <th>Q2</th>\n",
       "      <td>79510.547073</td>\n",
       "      <td>65.780488</td>\n",
       "    </tr>\n",
       "    <tr>\n",
       "      <th>Q1</th>\n",
       "      <td>66180.874880</td>\n",
       "      <td>57.662651</td>\n",
       "    </tr>\n",
       "    <tr>\n",
       "      <th>Q3</th>\n",
       "      <td>63922.391369</td>\n",
       "      <td>54.755952</td>\n",
       "    </tr>\n",
       "  </tbody>\n",
       "</table>\n",
       "</div>"
      ],
      "text/plain": [
       "          Sales Value  Sales Volume\n",
       "Quaters                            \n",
       "Q2       79510.547073     65.780488\n",
       "Q1       66180.874880     57.662651\n",
       "Q3       63922.391369     54.755952"
      ]
     },
     "execution_count": 57,
     "metadata": {},
     "output_type": "execute_result"
    }
   ],
   "source": [
    "data.groupby('Quaters')[['Sales Value', 'Sales Volume']].mean().sort_values(by='Sales Value',ascending=False)"
   ]
  },
  {
   "cell_type": "code",
   "execution_count": 37,
   "id": "c3236638",
   "metadata": {},
   "outputs": [
    {
     "data": {
      "text/html": [
       "<div>\n",
       "<style scoped>\n",
       "    .dataframe tbody tr th:only-of-type {\n",
       "        vertical-align: middle;\n",
       "    }\n",
       "\n",
       "    .dataframe tbody tr th {\n",
       "        vertical-align: top;\n",
       "    }\n",
       "\n",
       "    .dataframe thead th {\n",
       "        text-align: right;\n",
       "    }\n",
       "</style>\n",
       "<table border=\"1\" class=\"dataframe\">\n",
       "  <thead>\n",
       "    <tr style=\"text-align: right;\">\n",
       "      <th></th>\n",
       "      <th></th>\n",
       "      <th></th>\n",
       "      <th>Sales Value</th>\n",
       "      <th>Sales Volume</th>\n",
       "    </tr>\n",
       "    <tr>\n",
       "      <th>SUBTYPE</th>\n",
       "      <th>Year</th>\n",
       "      <th>Quaters</th>\n",
       "      <th></th>\n",
       "      <th></th>\n",
       "    </tr>\n",
       "  </thead>\n",
       "  <tbody>\n",
       "    <tr>\n",
       "      <th rowspan=\"9\" valign=\"top\">Accessory</th>\n",
       "      <th rowspan=\"3\" valign=\"top\">2018</th>\n",
       "      <th>Q1</th>\n",
       "      <td>1427.731429</td>\n",
       "      <td>1.285714</td>\n",
       "    </tr>\n",
       "    <tr>\n",
       "      <th>Q2</th>\n",
       "      <td>1920.660000</td>\n",
       "      <td>1.000000</td>\n",
       "    </tr>\n",
       "    <tr>\n",
       "      <th>Q3</th>\n",
       "      <td>2422.440000</td>\n",
       "      <td>1.333333</td>\n",
       "    </tr>\n",
       "    <tr>\n",
       "      <th rowspan=\"3\" valign=\"top\">2019</th>\n",
       "      <th>Q1</th>\n",
       "      <td>2073.580000</td>\n",
       "      <td>1.000000</td>\n",
       "    </tr>\n",
       "    <tr>\n",
       "      <th>Q2</th>\n",
       "      <td>10854.956667</td>\n",
       "      <td>6.000000</td>\n",
       "    </tr>\n",
       "    <tr>\n",
       "      <th>Q3</th>\n",
       "      <td>12555.751111</td>\n",
       "      <td>7.111111</td>\n",
       "    </tr>\n",
       "    <tr>\n",
       "      <th rowspan=\"3\" valign=\"top\">2020</th>\n",
       "      <th>Q1</th>\n",
       "      <td>17693.536667</td>\n",
       "      <td>9.583333</td>\n",
       "    </tr>\n",
       "    <tr>\n",
       "      <th>Q2</th>\n",
       "      <td>25788.217500</td>\n",
       "      <td>14.083333</td>\n",
       "    </tr>\n",
       "    <tr>\n",
       "      <th>Q3</th>\n",
       "      <td>23666.066667</td>\n",
       "      <td>13.000000</td>\n",
       "    </tr>\n",
       "    <tr>\n",
       "      <th>Ankle bracelet</th>\n",
       "      <th>2018</th>\n",
       "      <th>Q1</th>\n",
       "      <td>2500.000000</td>\n",
       "      <td>10.000000</td>\n",
       "    </tr>\n",
       "    <tr>\n",
       "      <th rowspan=\"9\" valign=\"top\">Bracelet</th>\n",
       "      <th rowspan=\"3\" valign=\"top\">2018</th>\n",
       "      <th>Q1</th>\n",
       "      <td>60142.828333</td>\n",
       "      <td>69.666667</td>\n",
       "    </tr>\n",
       "    <tr>\n",
       "      <th>Q2</th>\n",
       "      <td>67600.420833</td>\n",
       "      <td>73.166667</td>\n",
       "    </tr>\n",
       "    <tr>\n",
       "      <th>Q3</th>\n",
       "      <td>60868.809167</td>\n",
       "      <td>71.500000</td>\n",
       "    </tr>\n",
       "    <tr>\n",
       "      <th rowspan=\"3\" valign=\"top\">2019</th>\n",
       "      <th>Q1</th>\n",
       "      <td>86193.855000</td>\n",
       "      <td>99.666667</td>\n",
       "    </tr>\n",
       "    <tr>\n",
       "      <th>Q2</th>\n",
       "      <td>98729.851667</td>\n",
       "      <td>107.833333</td>\n",
       "    </tr>\n",
       "    <tr>\n",
       "      <th>Q3</th>\n",
       "      <td>83482.477500</td>\n",
       "      <td>96.916667</td>\n",
       "    </tr>\n",
       "    <tr>\n",
       "      <th rowspan=\"3\" valign=\"top\">2020</th>\n",
       "      <th>Q1</th>\n",
       "      <td>78316.304167</td>\n",
       "      <td>114.500000</td>\n",
       "    </tr>\n",
       "    <tr>\n",
       "      <th>Q2</th>\n",
       "      <td>165032.543333</td>\n",
       "      <td>178.416667</td>\n",
       "    </tr>\n",
       "    <tr>\n",
       "      <th>Q3</th>\n",
       "      <td>112973.012500</td>\n",
       "      <td>108.250000</td>\n",
       "    </tr>\n",
       "    <tr>\n",
       "      <th rowspan=\"9\" valign=\"top\">Hair band</th>\n",
       "      <th rowspan=\"3\" valign=\"top\">2018</th>\n",
       "      <th>Q1</th>\n",
       "      <td>204434.295833</td>\n",
       "      <td>145.833333</td>\n",
       "    </tr>\n",
       "    <tr>\n",
       "      <th>Q2</th>\n",
       "      <td>173432.810833</td>\n",
       "      <td>121.833333</td>\n",
       "    </tr>\n",
       "    <tr>\n",
       "      <th>Q3</th>\n",
       "      <td>202956.426667</td>\n",
       "      <td>151.416667</td>\n",
       "    </tr>\n",
       "    <tr>\n",
       "      <th rowspan=\"3\" valign=\"top\">2019</th>\n",
       "      <th>Q1</th>\n",
       "      <td>145257.858333</td>\n",
       "      <td>105.666667</td>\n",
       "    </tr>\n",
       "    <tr>\n",
       "      <th>Q2</th>\n",
       "      <td>209789.860833</td>\n",
       "      <td>142.416667</td>\n",
       "    </tr>\n",
       "    <tr>\n",
       "      <th>Q3</th>\n",
       "      <td>140222.943333</td>\n",
       "      <td>101.166667</td>\n",
       "    </tr>\n",
       "    <tr>\n",
       "      <th rowspan=\"3\" valign=\"top\">2020</th>\n",
       "      <th>Q1</th>\n",
       "      <td>103916.974167</td>\n",
       "      <td>71.000000</td>\n",
       "    </tr>\n",
       "    <tr>\n",
       "      <th>Q2</th>\n",
       "      <td>102793.540000</td>\n",
       "      <td>73.100000</td>\n",
       "    </tr>\n",
       "    <tr>\n",
       "      <th>Q3</th>\n",
       "      <td>79734.596667</td>\n",
       "      <td>63.583333</td>\n",
       "    </tr>\n",
       "    <tr>\n",
       "      <th rowspan=\"9\" valign=\"top\">Necklace</th>\n",
       "      <th rowspan=\"3\" valign=\"top\">2018</th>\n",
       "      <th>Q1</th>\n",
       "      <td>60318.723333</td>\n",
       "      <td>47.750000</td>\n",
       "    </tr>\n",
       "    <tr>\n",
       "      <th>Q2</th>\n",
       "      <td>77016.335833</td>\n",
       "      <td>55.500000</td>\n",
       "    </tr>\n",
       "    <tr>\n",
       "      <th>Q3</th>\n",
       "      <td>52611.178333</td>\n",
       "      <td>41.083333</td>\n",
       "    </tr>\n",
       "    <tr>\n",
       "      <th rowspan=\"3\" valign=\"top\">2019</th>\n",
       "      <th>Q1</th>\n",
       "      <td>42345.800000</td>\n",
       "      <td>32.250000</td>\n",
       "    </tr>\n",
       "    <tr>\n",
       "      <th>Q2</th>\n",
       "      <td>44545.070000</td>\n",
       "      <td>32.250000</td>\n",
       "    </tr>\n",
       "    <tr>\n",
       "      <th>Q3</th>\n",
       "      <td>43307.208333</td>\n",
       "      <td>31.083333</td>\n",
       "    </tr>\n",
       "    <tr>\n",
       "      <th rowspan=\"3\" valign=\"top\">2020</th>\n",
       "      <th>Q1</th>\n",
       "      <td>58541.112500</td>\n",
       "      <td>36.916667</td>\n",
       "    </tr>\n",
       "    <tr>\n",
       "      <th>Q2</th>\n",
       "      <td>66417.058333</td>\n",
       "      <td>43.416667</td>\n",
       "    </tr>\n",
       "    <tr>\n",
       "      <th>Q3</th>\n",
       "      <td>23604.344167</td>\n",
       "      <td>15.250000</td>\n",
       "    </tr>\n",
       "    <tr>\n",
       "      <th rowspan=\"9\" valign=\"top\">Ring</th>\n",
       "      <th rowspan=\"3\" valign=\"top\">2018</th>\n",
       "      <th>Q1</th>\n",
       "      <td>25354.725000</td>\n",
       "      <td>27.916667</td>\n",
       "    </tr>\n",
       "    <tr>\n",
       "      <th>Q2</th>\n",
       "      <td>25196.365833</td>\n",
       "      <td>25.666667</td>\n",
       "    </tr>\n",
       "    <tr>\n",
       "      <th>Q3</th>\n",
       "      <td>27716.792500</td>\n",
       "      <td>27.083333</td>\n",
       "    </tr>\n",
       "    <tr>\n",
       "      <th rowspan=\"3\" valign=\"top\">2019</th>\n",
       "      <th>Q1</th>\n",
       "      <td>23292.429167</td>\n",
       "      <td>24.333333</td>\n",
       "    </tr>\n",
       "    <tr>\n",
       "      <th>Q2</th>\n",
       "      <td>27643.604167</td>\n",
       "      <td>27.333333</td>\n",
       "    </tr>\n",
       "    <tr>\n",
       "      <th>Q3</th>\n",
       "      <td>19770.356667</td>\n",
       "      <td>25.333333</td>\n",
       "    </tr>\n",
       "    <tr>\n",
       "      <th rowspan=\"3\" valign=\"top\">2020</th>\n",
       "      <th>Q1</th>\n",
       "      <td>8306.886667</td>\n",
       "      <td>10.833333</td>\n",
       "    </tr>\n",
       "    <tr>\n",
       "      <th>Q2</th>\n",
       "      <td>11489.448333</td>\n",
       "      <td>11.583333</td>\n",
       "    </tr>\n",
       "    <tr>\n",
       "      <th>Q3</th>\n",
       "      <td>13976.843333</td>\n",
       "      <td>15.250000</td>\n",
       "    </tr>\n",
       "  </tbody>\n",
       "</table>\n",
       "</div>"
      ],
      "text/plain": [
       "                               Sales Value  Sales Volume\n",
       "SUBTYPE        Year Quaters                             \n",
       "Accessory      2018 Q1         1427.731429      1.285714\n",
       "                    Q2         1920.660000      1.000000\n",
       "                    Q3         2422.440000      1.333333\n",
       "               2019 Q1         2073.580000      1.000000\n",
       "                    Q2        10854.956667      6.000000\n",
       "                    Q3        12555.751111      7.111111\n",
       "               2020 Q1        17693.536667      9.583333\n",
       "                    Q2        25788.217500     14.083333\n",
       "                    Q3        23666.066667     13.000000\n",
       "Ankle bracelet 2018 Q1         2500.000000     10.000000\n",
       "Bracelet       2018 Q1        60142.828333     69.666667\n",
       "                    Q2        67600.420833     73.166667\n",
       "                    Q3        60868.809167     71.500000\n",
       "               2019 Q1        86193.855000     99.666667\n",
       "                    Q2        98729.851667    107.833333\n",
       "                    Q3        83482.477500     96.916667\n",
       "               2020 Q1        78316.304167    114.500000\n",
       "                    Q2       165032.543333    178.416667\n",
       "                    Q3       112973.012500    108.250000\n",
       "Hair band      2018 Q1       204434.295833    145.833333\n",
       "                    Q2       173432.810833    121.833333\n",
       "                    Q3       202956.426667    151.416667\n",
       "               2019 Q1       145257.858333    105.666667\n",
       "                    Q2       209789.860833    142.416667\n",
       "                    Q3       140222.943333    101.166667\n",
       "               2020 Q1       103916.974167     71.000000\n",
       "                    Q2       102793.540000     73.100000\n",
       "                    Q3        79734.596667     63.583333\n",
       "Necklace       2018 Q1        60318.723333     47.750000\n",
       "                    Q2        77016.335833     55.500000\n",
       "                    Q3        52611.178333     41.083333\n",
       "               2019 Q1        42345.800000     32.250000\n",
       "                    Q2        44545.070000     32.250000\n",
       "                    Q3        43307.208333     31.083333\n",
       "               2020 Q1        58541.112500     36.916667\n",
       "                    Q2        66417.058333     43.416667\n",
       "                    Q3        23604.344167     15.250000\n",
       "Ring           2018 Q1        25354.725000     27.916667\n",
       "                    Q2        25196.365833     25.666667\n",
       "                    Q3        27716.792500     27.083333\n",
       "               2019 Q1        23292.429167     24.333333\n",
       "                    Q2        27643.604167     27.333333\n",
       "                    Q3        19770.356667     25.333333\n",
       "               2020 Q1         8306.886667     10.833333\n",
       "                    Q2        11489.448333     11.583333\n",
       "                    Q3        13976.843333     15.250000"
      ]
     },
     "execution_count": 37,
     "metadata": {},
     "output_type": "execute_result"
    }
   ],
   "source": [
    "table_B=data.groupby(['SUBTYPE','Year','Quaters'])[['Sales Value', 'Sales Volume']].mean()\n",
    "table_B"
   ]
  },
  {
   "cell_type": "markdown",
   "id": "fc2bf236",
   "metadata": {},
   "source": [
    "**Interpretations**\n",
    " - Table_B shows the comparison of Sales value and volume on the basis of each  year per Quater of each Subtype category,\n",
    " - which is helping us to know which category has maximum sales per quater each year."
   ]
  },
  {
   "cell_type": "code",
   "execution_count": 54,
   "id": "13d023f5",
   "metadata": {},
   "outputs": [
    {
     "data": {
      "text/html": [
       "<div>\n",
       "<style scoped>\n",
       "    .dataframe tbody tr th:only-of-type {\n",
       "        vertical-align: middle;\n",
       "    }\n",
       "\n",
       "    .dataframe tbody tr th {\n",
       "        vertical-align: top;\n",
       "    }\n",
       "\n",
       "    .dataframe thead th {\n",
       "        text-align: right;\n",
       "    }\n",
       "</style>\n",
       "<table border=\"1\" class=\"dataframe\">\n",
       "  <thead>\n",
       "    <tr style=\"text-align: right;\">\n",
       "      <th></th>\n",
       "      <th></th>\n",
       "      <th></th>\n",
       "      <th>Sales Value</th>\n",
       "      <th>Sales Volume</th>\n",
       "    </tr>\n",
       "    <tr>\n",
       "      <th>MARKET</th>\n",
       "      <th>Year</th>\n",
       "      <th>Quaters</th>\n",
       "      <th></th>\n",
       "      <th></th>\n",
       "    </tr>\n",
       "  </thead>\n",
       "  <tbody>\n",
       "    <tr>\n",
       "      <th rowspan=\"9\" valign=\"top\">Japan</th>\n",
       "      <th rowspan=\"3\" valign=\"top\">2018</th>\n",
       "      <th>Q1</th>\n",
       "      <td>129816.01</td>\n",
       "      <td>88.29</td>\n",
       "    </tr>\n",
       "    <tr>\n",
       "      <th>Q2</th>\n",
       "      <td>114690.82</td>\n",
       "      <td>75.88</td>\n",
       "    </tr>\n",
       "    <tr>\n",
       "      <th>Q3</th>\n",
       "      <td>129946.32</td>\n",
       "      <td>90.81</td>\n",
       "    </tr>\n",
       "    <tr>\n",
       "      <th rowspan=\"3\" valign=\"top\">2019</th>\n",
       "      <th>Q1</th>\n",
       "      <td>101825.60</td>\n",
       "      <td>71.50</td>\n",
       "    </tr>\n",
       "    <tr>\n",
       "      <th>Q2</th>\n",
       "      <td>131885.80</td>\n",
       "      <td>85.53</td>\n",
       "    </tr>\n",
       "    <tr>\n",
       "      <th>Q3</th>\n",
       "      <td>93378.59</td>\n",
       "      <td>65.80</td>\n",
       "    </tr>\n",
       "    <tr>\n",
       "      <th rowspan=\"3\" valign=\"top\">2020</th>\n",
       "      <th>Q1</th>\n",
       "      <td>75064.28</td>\n",
       "      <td>47.85</td>\n",
       "    </tr>\n",
       "    <tr>\n",
       "      <th>Q2</th>\n",
       "      <td>74456.68</td>\n",
       "      <td>49.50</td>\n",
       "    </tr>\n",
       "    <tr>\n",
       "      <th>Q3</th>\n",
       "      <td>57100.59</td>\n",
       "      <td>41.75</td>\n",
       "    </tr>\n",
       "    <tr>\n",
       "      <th rowspan=\"9\" valign=\"top\">USA</th>\n",
       "      <th rowspan=\"3\" valign=\"top\">2018</th>\n",
       "      <th>Q1</th>\n",
       "      <td>64966.83</td>\n",
       "      <td>57.14</td>\n",
       "    </tr>\n",
       "    <tr>\n",
       "      <th>Q2</th>\n",
       "      <td>93260.89</td>\n",
       "      <td>77.00</td>\n",
       "    </tr>\n",
       "    <tr>\n",
       "      <th>Q3</th>\n",
       "      <td>77350.95</td>\n",
       "      <td>70.79</td>\n",
       "    </tr>\n",
       "    <tr>\n",
       "      <th rowspan=\"3\" valign=\"top\">2019</th>\n",
       "      <th>Q1</th>\n",
       "      <td>74674.31</td>\n",
       "      <td>68.83</td>\n",
       "    </tr>\n",
       "    <tr>\n",
       "      <th>Q2</th>\n",
       "      <td>79267.40</td>\n",
       "      <td>73.16</td>\n",
       "    </tr>\n",
       "    <tr>\n",
       "      <th>Q3</th>\n",
       "      <td>57128.62</td>\n",
       "      <td>53.70</td>\n",
       "    </tr>\n",
       "    <tr>\n",
       "      <th rowspan=\"3\" valign=\"top\">2020</th>\n",
       "      <th>Q1</th>\n",
       "      <td>53670.56</td>\n",
       "      <td>59.45</td>\n",
       "    </tr>\n",
       "    <tr>\n",
       "      <th>Q2</th>\n",
       "      <td>87907.31</td>\n",
       "      <td>76.60</td>\n",
       "    </tr>\n",
       "    <tr>\n",
       "      <th>Q3</th>\n",
       "      <td>63900.21</td>\n",
       "      <td>55.65</td>\n",
       "    </tr>\n",
       "    <tr>\n",
       "      <th rowspan=\"9\" valign=\"top\">United Kingdom</th>\n",
       "      <th rowspan=\"3\" valign=\"top\">2018</th>\n",
       "      <th>Q1</th>\n",
       "      <td>35795.86</td>\n",
       "      <td>45.11</td>\n",
       "    </tr>\n",
       "    <tr>\n",
       "      <th>Q2</th>\n",
       "      <td>43773.97</td>\n",
       "      <td>49.50</td>\n",
       "    </tr>\n",
       "    <tr>\n",
       "      <th>Q3</th>\n",
       "      <td>36768.54</td>\n",
       "      <td>43.69</td>\n",
       "    </tr>\n",
       "    <tr>\n",
       "      <th rowspan=\"3\" valign=\"top\">2019</th>\n",
       "      <th>Q1</th>\n",
       "      <td>37242.45</td>\n",
       "      <td>47.62</td>\n",
       "    </tr>\n",
       "    <tr>\n",
       "      <th>Q2</th>\n",
       "      <td>34436.02</td>\n",
       "      <td>39.84</td>\n",
       "    </tr>\n",
       "    <tr>\n",
       "      <th>Q3</th>\n",
       "      <td>32014.90</td>\n",
       "      <td>42.82</td>\n",
       "    </tr>\n",
       "    <tr>\n",
       "      <th rowspan=\"3\" valign=\"top\">2020</th>\n",
       "      <th>Q1</th>\n",
       "      <td>31330.05</td>\n",
       "      <td>38.40</td>\n",
       "    </tr>\n",
       "    <tr>\n",
       "      <th>Q2</th>\n",
       "      <td>55854.60</td>\n",
       "      <td>65.50</td>\n",
       "    </tr>\n",
       "    <tr>\n",
       "      <th>Q3</th>\n",
       "      <td>31372.12</td>\n",
       "      <td>31.80</td>\n",
       "    </tr>\n",
       "  </tbody>\n",
       "</table>\n",
       "</div>"
      ],
      "text/plain": [
       "                             Sales Value  Sales Volume\n",
       "MARKET         Year Quaters                           \n",
       "Japan          2018 Q1         129816.01         88.29\n",
       "                    Q2         114690.82         75.88\n",
       "                    Q3         129946.32         90.81\n",
       "               2019 Q1         101825.60         71.50\n",
       "                    Q2         131885.80         85.53\n",
       "                    Q3          93378.59         65.80\n",
       "               2020 Q1          75064.28         47.85\n",
       "                    Q2          74456.68         49.50\n",
       "                    Q3          57100.59         41.75\n",
       "USA            2018 Q1          64966.83         57.14\n",
       "                    Q2          93260.89         77.00\n",
       "                    Q3          77350.95         70.79\n",
       "               2019 Q1          74674.31         68.83\n",
       "                    Q2          79267.40         73.16\n",
       "                    Q3          57128.62         53.70\n",
       "               2020 Q1          53670.56         59.45\n",
       "                    Q2          87907.31         76.60\n",
       "                    Q3          63900.21         55.65\n",
       "United Kingdom 2018 Q1          35795.86         45.11\n",
       "                    Q2          43773.97         49.50\n",
       "                    Q3          36768.54         43.69\n",
       "               2019 Q1          37242.45         47.62\n",
       "                    Q2          34436.02         39.84\n",
       "                    Q3          32014.90         42.82\n",
       "               2020 Q1          31330.05         38.40\n",
       "                    Q2          55854.60         65.50\n",
       "                    Q3          31372.12         31.80"
      ]
     },
     "execution_count": 54,
     "metadata": {},
     "output_type": "execute_result"
    }
   ],
   "source": [
    "table_C=data.groupby(['MARKET','Year','Quaters'])[['Sales Value', 'Sales Volume']].mean().round(2)\n",
    "table_C"
   ]
  },
  {
   "cell_type": "markdown",
   "id": "ec8284a7",
   "metadata": {},
   "source": [
    "**Interpretations**\n",
    " - Table_C shows the comparison of Sales value and volume on the basis of each  year per Quater of each market.\n",
    " - which is helping us to know avrege sales and volume per year each quater market-wise."
   ]
  },
  {
   "cell_type": "markdown",
   "id": "4fbf3789",
   "metadata": {},
   "source": [
    "# Task 4"
   ]
  },
  {
   "cell_type": "markdown",
   "id": "089984e5",
   "metadata": {},
   "source": [
    "## chart 1"
   ]
  },
  {
   "cell_type": "code",
   "execution_count": 39,
   "id": "44f2ad3a",
   "metadata": {},
   "outputs": [
    {
     "data": {
      "text/plain": [
       "Text(0.5, 1.0, 'Distribution of Sales Value')"
      ]
     },
     "execution_count": 39,
     "metadata": {},
     "output_type": "execute_result"
    },
    {
     "data": {
      "image/png": "[encoded data removed]",
      "text/plain": [
       "<Figure size 432x288 with 1 Axes>"
      ]
     },
     "metadata": {},
     "output_type": "display_data"
    }
   ],
   "source": [
    "sns.histplot(data[\"Sales Value\"], kde=True, bins=20)\n",
    "plt.xlabel(\"Sales Value\")\n",
    "plt.title(\"Distribution of Sales Value\")"
   ]
  },
  {
   "cell_type": "code",
   "execution_count": 40,
   "id": "e6b05539",
   "metadata": {},
   "outputs": [
    {
     "data": {
      "text/plain": [
       "Text(0.5, 1.0, 'Distribution of Sales Volume')"
      ]
     },
     "execution_count": 40,
     "metadata": {},
     "output_type": "execute_result"
    },
    {
     "data": {
      "image/png": "[encoded data removed]",
      "text/plain": [
       "<Figure size 432x288 with 1 Axes>"
      ]
     },
     "metadata": {},
     "output_type": "display_data"
    }
   ],
   "source": [
    "sns.histplot(data[\"Sales Volume\"], kde=True, bins=25)\n",
    "plt.xlabel(\"Sales Volume\")\n",
    "plt.title(\"Distribution of Sales Volume\")"
   ]
  },
  {
   "cell_type": "markdown",
   "id": "644d6bcb",
   "metadata": {},
   "source": [
    "## chart 2"
   ]
  },
  {
   "cell_type": "code",
   "execution_count": 41,
   "id": "71bb19eb",
   "metadata": {},
   "outputs": [],
   "source": [
    "market=list(data['MARKET'].unique())"
   ]
  },
  {
   "cell_type": "code",
   "execution_count": 42,
   "id": "0e572986",
   "metadata": {},
   "outputs": [
    {
     "data": {
      "image/png": "[encoded data removed]",
      "text/plain": [
       "<Figure size 1080x540 with 3 Axes>"
      ]
     },
     "metadata": {},
     "output_type": "display_data"
    }
   ],
   "source": [
    "num=1\n",
    "plt.figure(figsize=(15,7.5))\n",
    "\n",
    "for i in market:\n",
    "    plt.subplot(1,3,num)\n",
    "    dffil=data[data[\"MARKET\"]==i]\n",
    "    sns.barplot(x=\"SUBTYPE\", y=\"Sales Value\",data=dffil, palette=\"Set2\",hue_order=data['SUBTYPE'].unique())\n",
    "\n",
    "    plt.xlabel(f\"MARKET {i}\", fontdict={\"color\":\"black\", \"size\": 10})\n",
    "    plt.xticks(rotation=90)\n",
    "    num+=1"
   ]
  },
  {
   "cell_type": "markdown",
   "id": "201f9c2a",
   "metadata": {},
   "source": [
    "**Interpretations**\n",
    "- sales of hair bands is maximum in japan market and minumum in UK market.\n",
    "\n",
    "- sales of Necklace is maximum in USA market and minumum in japan market.\n",
    "- Ankle bracelets is only sold in USA market.\n",
    "- Sales of bracelets is lowest in JAPAN market. \n",
    "- overall sales of accessery is lowest in JAPAN and UK market.\n",
    "- maximum rings are sold in USA market."
   ]
  },
  {
   "cell_type": "markdown",
   "id": "d2394cac",
   "metadata": {},
   "source": [
    "# Chart 3"
   ]
  },
  {
   "cell_type": "code",
   "execution_count": 43,
   "id": "72e81741",
   "metadata": {},
   "outputs": [],
   "source": [
    "table_C=data.groupby(['MARKET','Year','Month'])[['Sales Value', 'Sales Volume']].mean().round(2)\n",
    "uk_data = data[(data['MARKET'] == 'United Kingdom') & (data['Year'] == 2020)]\n",
    "uk_2020 = uk_data.groupby('Month').sum()"
   ]
  },
  {
   "cell_type": "code",
   "execution_count": 44,
   "id": "86d21325",
   "metadata": {},
   "outputs": [],
   "source": [
    "uk_data = data[(data['MARKET'] == 'United Kingdom') & (data['Year'] == 2020)]\n",
    "uk_20 = uk_data.groupby('Month').sum()\n"
   ]
  },
  {
   "cell_type": "code",
   "execution_count": 45,
   "id": "488a8df9",
   "metadata": {},
   "outputs": [],
   "source": [
    "uk_data2 = data[(data['MARKET'] == 'United Kingdom') & (data['Year'] == 2019)]\n",
    "uk_19 = uk_data2.groupby('Month').sum()"
   ]
  },
  {
   "cell_type": "code",
   "execution_count": 46,
   "id": "60f51eed",
   "metadata": {},
   "outputs": [],
   "source": [
    "uk_data3 = data[(data['MARKET'] == 'United Kingdom') & (data['Year'] == 2018)]\n",
    "uk_18 = uk_data3.groupby('Month').sum()"
   ]
  },
  {
   "cell_type": "code",
   "execution_count": 47,
   "id": "a7d1e78f",
   "metadata": {},
   "outputs": [
    {
     "data": {
      "text/plain": [
       "[<matplotlib.lines.Line2D at 0x2df55ff7eb0>]"
      ]
     },
     "execution_count": 47,
     "metadata": {},
     "output_type": "execute_result"
    },
    {
     "data": {
      "image/png": "[encoded data removed]",
      "text/plain": [
       "<Figure size 1440x720 with 6 Axes>"
      ]
     },
     "metadata": {},
     "output_type": "display_data"
    }
   ],
   "source": [
    "plt.figure(figsize=(20,10))\n",
    "plt.subplot(2,3,1)\n",
    "plt.plot(uk_20['Sales Value'])\n",
    "\n",
    "plt.subplot(2,3,2)\n",
    "plt.plot(uk_19['Sales Value'])\n",
    "\n",
    "plt.subplot(2,3,3)\n",
    "plt.plot(uk_18['Sales Value'])\n",
    "\n",
    "plt.subplot(2,3,4)\n",
    "plt.plot(uk_20['Sales Volume'])\n",
    "\n",
    "plt.subplot(2,3,5)\n",
    "plt.plot(uk_19['Sales Volume'])\n",
    "\n",
    "plt.subplot(2,3,6)\n",
    "plt.plot(uk_18['Sales Volume'])"
   ]
  },
  {
   "cell_type": "code",
   "execution_count": 48,
   "id": "242f9012",
   "metadata": {},
   "outputs": [],
   "source": [
    "data_2020 = data[(data['Year'] == 2020)]\n",
    "data_20 =data_2020"
   ]
  },
  {
   "cell_type": "code",
   "execution_count": 49,
   "id": "d54dfc9b",
   "metadata": {},
   "outputs": [],
   "source": [
    "market=list(data_20['MARKET'].unique())"
   ]
  },
  {
   "cell_type": "code",
   "execution_count": 50,
   "id": "ba227ef3",
   "metadata": {},
   "outputs": [
    {
     "data": {
      "image/png": "[encoded data removed]",
      "text/plain": [
       "<Figure size 1440x540 with 3 Axes>"
      ]
     },
     "metadata": {},
     "output_type": "display_data"
    }
   ],
   "source": [
    "num=1\n",
    "plt.figure(figsize=(20,7.5))\n",
    "\n",
    "for i in market:\n",
    "    plt.subplot(1,3,num)\n",
    "    dffil=data[data[\"MARKET\"]==i]\n",
    "    df= dffil.groupby('Month').sum()\n",
    "    plt.plot(df['Sales Value'])\n",
    "    plt.xlabel('Month')\n",
    "    plt.title(i)\n",
    "    num+=1"
   ]
  },
  {
   "cell_type": "markdown",
   "id": "c70a5121",
   "metadata": {},
   "source": [
    "**Interpretations**\n",
    "- As you can see from the about trend the  campaign in UK 2020 dose't have the empect on salse as we expected. \n",
    "- from graph 1 of chart 3 before and after  campaign thaer is rapid fal in sales from 5 month.\n",
    "- from graph 2  of chart 3 the sales trend of UK is less then japan and USA in 2020. "
   ]
  },
  {
   "cell_type": "markdown",
   "id": "06c94d82",
   "metadata": {},
   "source": [
    "### conclusion:"
   ]
  },
  {
   "cell_type": "raw",
   "id": "075928c6",
   "metadata": {},
   "source": [
    ">>The data analysis and data charting presented in this report indicate that the marketing campaign of BIJ didn't impact very much on sales performance in the UK. \n",
    "\n",
    ">>The analysis also revealed that the Hairband had the highest sales volume and value, while the Ankle bracelet had the lowest sales volume and value.\n",
    "\n",
    ">>The Japan market had the highest Average sales volume and Average value, while the UK market had the lowest  Average sales volume and Average value.\n",
    "\n",
    ">>2018 had the highest sales while 2020 had the lowest sales . May be corona Was the Reason behind this. \n",
    "\n",
    ">>Month 6 was the highest selling Month In all the Markets.\n",
    "\n",
    ">>Q2 had the highest Average sales while Q3 had the lowest Average sales."
   ]
  },
  {
   "cell_type": "markdown",
   "id": "d436cc46",
   "metadata": {},
   "source": [
    "### Recommendation "
   ]
  },
  {
   "cell_type": "raw",
   "id": "51a00c62",
   "metadata": {},
   "source": [
    ">>Re-evaluate the marketing campaign: As the report indicates that the marketing campaign did not have a significant impact on sales performance in the UK, it may be worthwhile to reassess the campaign and identify areas for improvement or alternative approaches.\n",
    "\n",
    ">>Focus on promoting Hairbands: As the Hairband had the highest sales volume and value, it may be worthwhile to invest more resources into promoting this product in all markets. This could include offering special deals or discounts, creating targeted advertising campaigns, or partnering with influencers or fashion bloggers to showcase the product.\n",
    "\n",
    ">>Evaluate the Ankle bracelet: Given that the Ankle bracelet had the lowest sales volume and value, it may be necessary to review its design, pricing, or marketing strategy to see if improvements can be made. Alternatively, it may be worth considering phasing out this product and focusing on more profitable items.\n",
    "\n",
    ">>Since the Japan market had the highest average sales volume and value, it may be worthwhile to explore opportunities to expand the business in this market. This could include partnering with local retailers or e-commerce platforms, offering targeted promotions or discounts, or investing in marketing campaigns that resonate with Japanese consumers.\n",
    "\n",
    ">>Adjust sales strategy by quarter: As the analysis suggests that Q2 had the highest average sales and Q3 had the lowest average sales, the sales team may need to adjust their strategy accordingly. This could include offering promotions or discounts during the slower months, launching new products or limited-time offers during peak seasons, or exploring other ways to drive sales during off-peak times."
   ]
  }
 ],
 "metadata": {
  "kernelspec": {
   "display_name": "Python 3 (ipykernel)",
   "language": "python",
   "name": "python3"
  },
  "language_info": {
   "codemirror_mode": {
    "name": "ipython",
    "version": 3
   },
   "file_extension": ".py",
   "mimetype": "text/x-python",
   "name": "python",
   "nbconvert_exporter": "python",
   "pygments_lexer": "ipython3",
   "version": "3.9.12"
  }
 },
 "nbformat": 4,
 "nbformat_minor": 5
}
